{
  "nbformat": 4,
  "nbformat_minor": 0,
  "metadata": {
    "colab": {
      "name": "ripser_with_gpu.ipynb",
      "provenance": [],
      "authorship_tag": "ABX9TyOo4H4k8ay/0ZVoPmzPA7c4",
      "include_colab_link": true
    },
    "kernelspec": {
      "name": "python3",
      "display_name": "Python 3"
    },
    "language_info": {
      "name": "python"
    },
    "accelerator": "GPU"
  },
  "cells": [
    {
      "cell_type": "markdown",
      "metadata": {
        "id": "view-in-github",
        "colab_type": "text"
      },
      "source": [
        "<a href=\"https://colab.research.google.com/github/sava-1729/practice/blob/master/ripser_with_gpu.ipynb\" target=\"_parent\"><img src=\"https://colab.research.google.com/assets/colab-badge.svg\" alt=\"Open In Colab\"/></a>"
      ]
    },
    {
      "cell_type": "code",
      "execution_count": null,
      "metadata": {
        "colab": {
          "base_uri": "https://localhost:8080/"
        },
        "id": "JKN6XTTtekqB",
        "outputId": "e86206c0-75f8-4055-a3e2-c6715bf3470e"
      },
      "outputs": [
        {
          "output_type": "stream",
          "name": "stdout",
          "text": [
            "x86_64\n",
            "cmake version 3.12.0\n",
            "\n",
            "CMake suite maintained and supported by Kitware (kitware.com/cmake).\n",
            "nvcc: NVIDIA (R) Cuda compiler driver\n",
            "Copyright (c) 2005-2020 NVIDIA Corporation\n",
            "Built on Mon_Oct_12_20:09:46_PDT_2020\n",
            "Cuda compilation tools, release 11.1, V11.1.105\n",
            "Build cuda_11.1.TC455_06.29190527_0\n",
            "gcc (Ubuntu 7.5.0-3ubuntu1~18.04) 7.5.0\n",
            "Copyright (C) 2017 Free Software Foundation, Inc.\n",
            "This is free software; see the source for copying conditions.  There is NO\n",
            "warranty; not even for MERCHANTABILITY or FITNESS FOR A PARTICULAR PURPOSE.\n",
            "\n",
            "Python 3.7.12\n"
          ]
        }
      ],
      "source": [
        "!uname -i\n",
        "!cmake --version\n",
        "!nvcc --version\n",
        "!gcc --version\n",
        "!python --version"
      ]
    },
    {
      "cell_type": "code",
      "source": [
        "import numpy\n",
        "import scipy\n",
        "print(numpy.version.version)\n",
        "print(scipy.version.version)"
      ],
      "metadata": {
        "colab": {
          "base_uri": "https://localhost:8080/"
        },
        "id": "9ZUus4VwfQCV",
        "outputId": "b52bcfcb-c21e-4c0a-c3d9-babd63863a84"
      },
      "execution_count": null,
      "outputs": [
        {
          "output_type": "stream",
          "name": "stdout",
          "text": [
            "1.19.5\n",
            "1.4.1\n"
          ]
        }
      ]
    },
    {
      "cell_type": "code",
      "source": [
        "!pip3 install ripserplusplus"
      ],
      "metadata": {
        "colab": {
          "base_uri": "https://localhost:8080/"
        },
        "id": "_w4jMHnnfbS4",
        "outputId": "d0387cec-385b-4e7c-ecdf-119b43793cdf"
      },
      "execution_count": 1,
      "outputs": [
        {
          "output_type": "stream",
          "name": "stdout",
          "text": [
            "Collecting ripserplusplus\n",
            "  Downloading ripserplusplus-1.1.2.tar.gz (5.8 MB)\n",
            "\u001b[K     |████████████████████████████████| 5.8 MB 3.8 MB/s \n",
            "\u001b[?25hRequirement already satisfied: cmake in /usr/local/lib/python3.7/dist-packages (from ripserplusplus) (3.12.0)\n",
            "Requirement already satisfied: numpy in /usr/local/lib/python3.7/dist-packages (from ripserplusplus) (1.19.5)\n",
            "Requirement already satisfied: scipy in /usr/local/lib/python3.7/dist-packages (from ripserplusplus) (1.4.1)\n",
            "Building wheels for collected packages: ripserplusplus\n",
            "  Building wheel for ripserplusplus (setup.py) ... \u001b[?25l\u001b[?25hdone\n",
            "  Created wheel for ripserplusplus: filename=ripserplusplus-1.1.2-cp37-cp37m-linux_x86_64.whl size=427812 sha256=0c1ff4aea2f5d5ed7358e0ceca970f3dbacc6a83b3bccbc63a603db9ac96d42c\n",
            "  Stored in directory: /root/.cache/pip/wheels/bc/91/8e/9b85ce1b6848d6a08291bbe934552ee62c45f5757f3c6e14de\n",
            "Successfully built ripserplusplus\n",
            "Installing collected packages: ripserplusplus\n",
            "Successfully installed ripserplusplus-1.1.2\n"
          ]
        }
      ]
    }
  ]
}