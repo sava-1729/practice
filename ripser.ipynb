{
  "nbformat": 4,
  "nbformat_minor": 0,
  "metadata": {
    "colab": {
      "name": "Untitled0.ipynb",
      "provenance": [],
      "authorship_tag": "ABX9TyOo4H4k8ay/0ZVoPmzPA7c4",
      "include_colab_link": true
    },
    "kernelspec": {
      "name": "python3",
      "display_name": "Python 3"
    },
    "language_info": {
      "name": "python"
    }
  },
  "cells": [
    {
      "cell_type": "markdown",
      "metadata": {
        "id": "view-in-github",
        "colab_type": "text"
      },
      "source": [
        "<a href=\"https://colab.research.google.com/github/sava-1729/practice/blob/master/risper.ipynb\" target=\"_parent\"><img src=\"https://colab.research.google.com/assets/colab-badge.svg\" alt=\"Open In Colab\"/></a>"
      ]
    },
    {
      "cell_type": "code",
      "execution_count": 3,
      "metadata": {
        "colab": {
          "base_uri": "https://localhost:8080/"
        },
        "id": "JKN6XTTtekqB",
        "outputId": "62a96e0e-7e3a-4b3b-cae1-ec02016cc406"
      },
      "outputs": [
        {
          "output_type": "stream",
          "name": "stdout",
          "text": [
            "x86_64\n",
            "cmake version 3.12.0\n",
            "\n",
            "CMake suite maintained and supported by Kitware (kitware.com/cmake).\n",
            "nvcc: NVIDIA (R) Cuda compiler driver\n",
            "Copyright (c) 2005-2020 NVIDIA Corporation\n",
            "Built on Mon_Oct_12_20:09:46_PDT_2020\n",
            "Cuda compilation tools, release 11.1, V11.1.105\n",
            "Build cuda_11.1.TC455_06.29190527_0\n",
            "gcc (Ubuntu 7.5.0-3ubuntu1~18.04) 7.5.0\n",
            "Copyright (C) 2017 Free Software Foundation, Inc.\n",
            "This is free software; see the source for copying conditions.  There is NO\n",
            "warranty; not even for MERCHANTABILITY or FITNESS FOR A PARTICULAR PURPOSE.\n",
            "\n",
            "Python 3.7.12\n"
          ]
        }
      ],
      "source": [
        "!uname -i\n",
        "!cmake --version\n",
        "!nvcc --version\n",
        "!gcc --version\n",
        "!python --version"
      ]
    },
    {
      "cell_type": "code",
      "source": [
        "import numpy\n",
        "import scipy\n",
        "print(numpy.version.version)\n",
        "print(scipy.version.version)"
      ],
      "metadata": {
        "colab": {
          "base_uri": "https://localhost:8080/"
        },
        "id": "9ZUus4VwfQCV",
        "outputId": "26bfa65e-1273-451b-da2e-cc200d3bfc0f"
      },
      "execution_count": 2,
      "outputs": [
        {
          "output_type": "stream",
          "name": "stdout",
          "text": [
            "1.19.5\n",
            "1.4.1\n"
          ]
        }
      ]
    },
    {
      "cell_type": "code",
      "source": [
        "!pip3 install ripserplusplus"
      ],
      "metadata": {
        "colab": {
          "base_uri": "https://localhost:8080/"
        },
        "id": "_w4jMHnnfbS4",
        "outputId": "4da9190a-8505-4d5d-c590-0a54064dc0ba"
      },
      "execution_count": 4,
      "outputs": [
        {
          "output_type": "stream",
          "name": "stdout",
          "text": [
            "Collecting ripserplusplus\n",
            "  Downloading ripserplusplus-1.1.2.tar.gz (5.8 MB)\n",
            "\u001b[K     |████████████████████████████████| 5.8 MB 14.1 MB/s \n",
            "\u001b[?25hRequirement already satisfied: cmake in /usr/local/lib/python3.7/dist-packages (from ripserplusplus) (3.12.0)\n",
            "Requirement already satisfied: numpy in /usr/local/lib/python3.7/dist-packages (from ripserplusplus) (1.19.5)\n",
            "Requirement already satisfied: scipy in /usr/local/lib/python3.7/dist-packages (from ripserplusplus) (1.4.1)\n",
            "Building wheels for collected packages: ripserplusplus\n",
            "  Building wheel for ripserplusplus (setup.py) ... \u001b[?25lerror\n",
            "\u001b[31m  ERROR: Failed building wheel for ripserplusplus\u001b[0m\n",
            "\u001b[?25h  Running setup.py clean for ripserplusplus\n",
            "Failed to build ripserplusplus\n",
            "Installing collected packages: ripserplusplus\n",
            "    Running setup.py install for ripserplusplus ... \u001b[?25l\u001b[?25herror\n",
            "\u001b[31mERROR: Command errored out with exit status 1: /usr/bin/python3 -u -c 'import io, os, sys, setuptools, tokenize; sys.argv[0] = '\"'\"'/tmp/pip-install-g_cdklpg/ripserplusplus_6c389d870bf8496f9a3c6e720e272ffe/setup.py'\"'\"'; __file__='\"'\"'/tmp/pip-install-g_cdklpg/ripserplusplus_6c389d870bf8496f9a3c6e720e272ffe/setup.py'\"'\"';f = getattr(tokenize, '\"'\"'open'\"'\"', open)(__file__) if os.path.exists(__file__) else io.StringIO('\"'\"'from setuptools import setup; setup()'\"'\"');code = f.read().replace('\"'\"'\\r\\n'\"'\"', '\"'\"'\\n'\"'\"');f.close();exec(compile(code, __file__, '\"'\"'exec'\"'\"'))' install --record /tmp/pip-record-awwi3lo3/install-record.txt --single-version-externally-managed --compile --install-headers /usr/local/include/python3.7/ripserplusplus Check the logs for full command output.\u001b[0m\n"
          ]
        }
      ]
    }
  ]
}
